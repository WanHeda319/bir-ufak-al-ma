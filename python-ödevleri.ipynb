{
 "cells": [
  {
   "cell_type": "code",
   "execution_count": 8,
   "metadata": {},
   "outputs": [
    {
     "name": "stdout",
     "output_type": "stream",
     "text": [
      "kandırıkçımısn doğrucumu oyununa hoşgeldin\n",
      "sizden ricam sayi giriniz : 7\n",
      "beni kandırmaya çalışmıyosundur umarım sayini bidaha gir : 9\n",
      "7 ile 9 eşit değil bana kandırık attın.\n",
      "HAYATTA BOL ŞANŞ DİLERİM\n"
     ]
    }
   ],
   "source": [
    "#ÖDEV1\n",
    "print(\"kandırıkçımısn doğrucumu oyununa hoşgeldin\")\n",
    "a = input(\"sizden ricam sayi giriniz : \")\n",
    "if int(a)%2==0:\n",
    "    b=input(\"yalan söylemiyon dimi sayini bidaha gir : \")\n",
    "    if a==b:\n",
    "        print(\"doğrucu davud sayilarin ıkısınıde doğru girdin \\n{} sayisi cift sayidir \".format(a))\n",
    "    else:\n",
    "        print(\"{} ile {} eşit değil bana kandırık attın.\\nlütfen şanşınızı birdaha deneyiniz\".format(a,b))\n",
    "else:\n",
    "    c=input(\"beni kandırmaya çalışmıyosundur umarım sayini bidaha gir : \")\n",
    "    if a==c:\n",
    "        print(\"doğrucu davud sayilarin ıkısınıde doğru girdin \\n{} sayisi çift değildir.\".format(a))\n",
    "    else:\n",
    "        print(\"{} ile {} eşit değil bana kandırık attın.\\nHAYATTA BOL ŞANŞ DİLERİM\".format(a,c))"
   ]
  },
  {
   "cell_type": "code",
   "execution_count": 18,
   "metadata": {},
   "outputs": [],
   "source": [
    "#soru 2\n",
    "def asal_bulan_mucid():\n",
    "    x=0\n",
    "    while x<5:\n",
    "        sayi = int(input(\"lütfen bir sayi giriniz : \"))\n",
    "        sabit=1\n",
    "        for bolen in range(2,sayi):\n",
    "            if(sayi%bolen ==0):\n",
    "                print(\"girdiğiniz sayi asal değildir\")\n",
    "                sabit=0\n",
    "                break\n",
    "        if sabit==1:\n",
    "            print(\"sayiniz asaldir\")\n",
    "        x+=1\n",
    "asal_bulan_mucid()
   ]
  },
  {
   "cell_type": "code",
   "execution_count": null,
   "metadata": {},
   "outputs": [],
   "source": [
    "#soru3\n"
   ]
  }
 ],
 "metadata": {
  "kernelspec": {
   "display_name": "Python 3",
   "language": "python",
   "name": "python3"
  },
  "language_info": {
   "codemirror_mode": {
    "name": "ipython",
    "version": 3
   },
   "file_extension": ".py",
   "mimetype": "text/x-python",
   "name": "python",
   "nbconvert_exporter": "python",
   "pygments_lexer": "ipython3",
   "version": "3.8.5"
  }
 },
 "nbformat": 4,
 "nbformat_minor": 4
}
